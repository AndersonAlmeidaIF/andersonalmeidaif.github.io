{
 "cells": [
  {
   "cell_type": "markdown",
   "id": "b7d03141-19af-4e88-83cd-3ed0c57173e4",
   "metadata": {},
   "source": [
    "- Calcular a média:"
   ]
  },
  {
   "cell_type": "code",
   "execution_count": 36,
   "id": "34f7ef3c-893c-4354-903c-8e3b59c6164a",
   "metadata": {},
   "outputs": [
    {
     "name": "stdout",
     "output_type": "stream",
     "text": [
      "Media: 6.0\n"
     ]
    }
   ],
   "source": [
    "p1 = 5\n",
    "p2 = 10\n",
    "r1 = 6\n",
    "\n",
    "media = (p1*0.8+p2*0.2)\n",
    "\n",
    "print(\"Media:\", media)"
   ]
  },
  {
   "cell_type": "markdown",
   "id": "dc9ad32e-f870-4036-8109-fbbe384efc77",
   "metadata": {},
   "source": [
    "- Verificando se média é maior ou igual a 6:"
   ]
  },
  {
   "cell_type": "code",
   "execution_count": 39,
   "id": "5dab8b59-22cb-4fa3-b77e-bc2e72ff92b1",
   "metadata": {},
   "outputs": [
    {
     "name": "stdout",
     "output_type": "stream",
     "text": [
      "Media: 6.0\n",
      "Maior ou igual a 6?: 1.0\n"
     ]
    }
   ],
   "source": [
    "c = 0 # variável para condicional (se média >= 6, c=1 (aprox) ; se média < 6, c = 0 (aprox)\n",
    "e = 0.000000001 # erro / epsilon para evitar divisão por 0\n",
    "\n",
    "c = abs( ( (media - 6 + e) + abs(media - 6 + e) ) / (2 * (media - 6 + e) ) )\n",
    "\n",
    "print(\"Media:\", media)\n",
    "print(\"Maior ou igual a 6?:\", c)"
   ]
  },
  {
   "cell_type": "markdown",
   "id": "2810e656-7644-4e9a-9cd2-1a4df9dc36ca",
   "metadata": {},
   "source": [
    "- Calcular o Máximo entre média e r1:"
   ]
  },
  {
   "cell_type": "code",
   "execution_count": 40,
   "id": "489babe3-b557-4045-b01a-7c557cda4f72",
   "metadata": {},
   "outputs": [
    {
     "name": "stdout",
     "output_type": "stream",
     "text": [
      "Media: 6.0\n",
      "Maior ou igual a 6?: 1.0\n",
      "Maior nota: 6.0\n"
     ]
    }
   ],
   "source": [
    "maior_nota = (media + r1 + abs(media - r1)) / 2\n",
    "\n",
    "print(\"Media:\", media)\n",
    "print(\"Maior ou igual a 6?:\", c)\n",
    "print(\"Maior nota:\", maior_nota)"
   ]
  },
  {
   "cell_type": "code",
   "execution_count": null,
   "id": "941d7819-ee9a-487b-96d3-976743cc7a51",
   "metadata": {},
   "outputs": [],
   "source": [
    "\n",
    "m_final = c * media + (1 - c) * maior_nota\n",
    "\n",
    "print(\"Nota final:\", m_final)"
   ]
  },
  {
   "cell_type": "code",
   "execution_count": 48,
   "id": "ab450680-090b-4bfa-b6eb-4461433ee71e",
   "metadata": {},
   "outputs": [
    {
     "name": "stdout",
     "output_type": "stream",
     "text": [
      "Media: 4.6000000000000005\n",
      "Final: 4.6000000000000005\n"
     ]
    }
   ],
   "source": [
    "p1 = 4\n",
    "p2 = 7\n",
    "r1 = 3\n",
    "e = 0.0001\n",
    "\n",
    "media = (p1*0.8+p2*0.2)\n",
    "\n",
    "final = abs( ( ((p1*0.8+p2*0.2) - 6 + e) + abs((p1*0.8+p2*0.2) - 6 + e) ) / (2 * ((p1*0.8+p2*0.2) - 6 + e) ) ) * (p1*0.8+p2*0.2) + (1 - abs( ( ((p1*0.8+p2*0.2) - 6 + e) + abs((p1*0.8+p2*0.2) - 6 + e) ) / (2 * ((p1*0.8+p2*0.2) - 6 + e) ) )) * (((p1*0.8+p2*0.2) + r1 + abs((p1*0.8+p2*0.2) - r1)) / 2)\n",
    "\n",
    "print(\"Media:\", media)\n",
    "print(\"Final:\", final)"
   ]
  },
  {
   "cell_type": "raw",
   "id": "6d698cb0-e77a-4f32-bd0e-2bb635c2179f",
   "metadata": {},
   "source": [
    "final=abs((((P1*0.8+P2*0.2)-6+0.001)+abs((P1*0.8+P2*0.2)-6+0.001))/(2*((P1*0.8+P2*0.2)-6+0.001)))*(P1*0.8+P2*0.2)+(1-abs((((P1*0.8+P2*0.2)-6+0.001)+abs((P1*0.8+P2*0.2)-6+0.001))/(2*((P1*0.8+P2*0.2)-6+0.001))))*(((P1*0.8+P2*0.2)+R1+abs((P1*0.8+P2*0.2)-R1))/2)"
   ]
  },
  {
   "cell_type": "code",
   "execution_count": 12,
   "id": "f16c1c37-919f-4b3a-b84b-e30f9337c54d",
   "metadata": {},
   "outputs": [
    {
     "name": "stdout",
     "output_type": "stream",
     "text": [
      "0.2\n",
      "2.0\n"
     ]
    }
   ],
   "source": [
    "p1 = 0\n",
    "p2 = 1\n",
    "r1 = 2\n",
    "\n",
    "media = (p1*0.8+p2*0.2)\n",
    "\n",
    "final = ( media + r1 + abs( media - r1) ) / 2\n",
    "\n",
    "print(media)\n",
    "print(final)"
   ]
  },
  {
   "cell_type": "code",
   "execution_count": null,
   "id": "da455b8d-374f-4b6c-aa8d-0339bc8cb495",
   "metadata": {},
   "outputs": [],
   "source": []
  }
 ],
 "metadata": {
  "kernelspec": {
   "display_name": "Python 3 (ipykernel)",
   "language": "python",
   "name": "python3"
  },
  "language_info": {
   "codemirror_mode": {
    "name": "ipython",
    "version": 3
   },
   "file_extension": ".py",
   "mimetype": "text/x-python",
   "name": "python",
   "nbconvert_exporter": "python",
   "pygments_lexer": "ipython3",
   "version": "3.13.2"
  }
 },
 "nbformat": 4,
 "nbformat_minor": 5
}
