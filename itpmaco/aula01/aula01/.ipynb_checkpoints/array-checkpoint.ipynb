{
 "cells": [
  {
   "cell_type": "markdown",
   "id": "7dd24572-fbef-44d7-8f4c-ab1c4b1b5284",
   "metadata": {},
   "source": [
    "#### imports:"
   ]
  },
  {
   "cell_type": "code",
   "execution_count": 39,
   "id": "09677df2-1aee-4d17-8fca-c16587aef2df",
   "metadata": {},
   "outputs": [],
   "source": [
    "import random\n",
    "from functools import partial\n",
    "print = partial(print, sep='', end='')"
   ]
  },
  {
   "cell_type": "markdown",
   "id": "4d743e87-251c-4575-8ce6-7716c8c4e24f",
   "metadata": {},
   "source": [
    "- Declarando matrizes utilizando listas aninhadas:"
   ]
  },
  {
   "cell_type": "code",
   "execution_count": 2,
   "id": "cbc37470-a629-4927-80bb-4fb21e536eb8",
   "metadata": {},
   "outputs": [],
   "source": [
    "A = [[4, 0, 3],\n",
    "     [2, 6, 9],\n",
    "     [0, 5, 8]]\n",
    "\n",
    "B = [[1, 2, 0],\n",
    "     [3, 1, 9],\n",
    "     [9, 5, 0]]"
   ]
  },
  {
   "cell_type": "markdown",
   "id": "9ee2a81d-8eaf-4be0-8e63-edbd64ecb96e",
   "metadata": {},
   "source": [
    "- Exibindo as matrizes com a estrutura for:"
   ]
  },
  {
   "cell_type": "code",
   "execution_count": 6,
   "id": "794a1e75-0f87-493b-8111-ea1f661f6b8d",
   "metadata": {},
   "outputs": [
    {
     "name": "stdout",
     "output_type": "stream",
     "text": [
      "4 0 3 \n",
      "2 6 9 \n",
      "0 5 8 \n"
     ]
    }
   ],
   "source": [
    "for i in range(3):\n",
    "    for j in range(3):\n",
    "        print(A[i][j], \" \")\n",
    "    print(\"\\n\")"
   ]
  },
  {
   "cell_type": "markdown",
   "id": "a7dd6e54-3088-4f5f-944d-7e6833654f71",
   "metadata": {},
   "source": [
    "- Gerando uma matriz de ordem n:"
   ]
  },
  {
   "cell_type": "code",
   "execution_count": 32,
   "id": "6b1782f8-2814-4c6a-8b6e-f0f6a86c1683",
   "metadata": {},
   "outputs": [],
   "source": [
    "n = 5\n",
    "\n",
    "C = [ [],\n",
    "      [],\n",
    "      [],\n",
    "      [],\n",
    "      [] ]"
   ]
  },
  {
   "cell_type": "markdown",
   "id": "f47c8fb0-3e16-48a0-99fe-7990e91532b1",
   "metadata": {},
   "source": [
    "- Gerando uma matriz nula:"
   ]
  },
  {
   "cell_type": "code",
   "execution_count": 48,
   "id": "42b009c6-6074-4b3e-9225-9832e95c59b1",
   "metadata": {},
   "outputs": [],
   "source": [
    "C = [ [],[],[],[],[] ]\n",
    "\n",
    "for i in range(n):\n",
    "    for j in range(n):\n",
    "        C[i].append(0)"
   ]
  },
  {
   "cell_type": "code",
   "execution_count": 49,
   "id": "daf54283-79e6-449b-9a2a-49c4ba7d3a98",
   "metadata": {},
   "outputs": [
    {
     "name": "stdout",
     "output_type": "stream",
     "text": [
      "0 0 0 0 0 \n",
      "0 0 0 0 0 \n",
      "0 0 0 0 0 \n",
      "0 0 0 0 0 \n",
      "0 0 0 0 0 \n"
     ]
    }
   ],
   "source": [
    "for i in range(n):\n",
    "    for j in range(n):\n",
    "        print(C[i][j], \" \")\n",
    "    print(\"\\n\")"
   ]
  },
  {
   "cell_type": "markdown",
   "id": "e9c41af6-69d8-43a4-abd4-1c6c3ee7f633",
   "metadata": {},
   "source": [
    "- Preenchendo com valores aleatórios:"
   ]
  },
  {
   "cell_type": "code",
   "execution_count": 42,
   "id": "5722a07e-90f0-4fb1-b04d-aec74cd7c08b",
   "metadata": {},
   "outputs": [],
   "source": [
    "C = [ [],[],[],[],[] ]\n",
    "\n",
    "for i in range(n):\n",
    "    for j in range(n):\n",
    "        C[i].append(random.randint(0,9))"
   ]
  },
  {
   "cell_type": "code",
   "execution_count": 43,
   "id": "139d982e-35ff-4424-834c-2038b664c688",
   "metadata": {},
   "outputs": [
    {
     "name": "stdout",
     "output_type": "stream",
     "text": [
      "0 9 3 9 8 \n",
      "4 9 5 8 5 \n",
      "8 5 7 6 0 \n",
      "1 4 6 4 3 \n",
      "6 8 7 9 4 \n"
     ]
    }
   ],
   "source": [
    "for i in range(n):\n",
    "    for j in range(n):\n",
    "        print(C[i][j], \" \")\n",
    "    print(\"\\n\")"
   ]
  },
  {
   "cell_type": "markdown",
   "id": "789d2147-52f0-4064-a684-8ddf4f880779",
   "metadata": {},
   "source": [
    "- Preenchendo e exibindo simultaneamente:"
   ]
  },
  {
   "cell_type": "code",
   "execution_count": 56,
   "id": "452d1500-27fe-4725-af97-bd87cb12d468",
   "metadata": {},
   "outputs": [
    {
     "name": "stdout",
     "output_type": "stream",
     "text": [
      "6 6 2 3 6 \n",
      "2 3 4 4 3 \n",
      "4 6 6 4 5 \n",
      "0 4 3 8 2 \n",
      "0 6 1 5 1 \n"
     ]
    }
   ],
   "source": [
    "C = [ [],[],[],[],[] ]\n",
    "\n",
    "for i in range(n):\n",
    "    for j in range(n):\n",
    "        C[i].append(random.randint(0,9))\n",
    "        print(C[i][j], \" \")\n",
    "    print(\"\\n\")"
   ]
  },
  {
   "cell_type": "markdown",
   "id": "4e230ac2-5c7b-4bcf-8211-728a00b7d3aa",
   "metadata": {},
   "source": [
    "- Gerando uma matriz identidade:"
   ]
  },
  {
   "cell_type": "code",
   "execution_count": null,
   "id": "3778f0de-ad58-4000-bc76-d7ae06f20d0d",
   "metadata": {},
   "outputs": [],
   "source": []
  },
  {
   "cell_type": "markdown",
   "id": "82426f33-7bf6-4759-b790-e1e55825e6d7",
   "metadata": {},
   "source": [
    "- Preencher a diagonal secundária:"
   ]
  },
  {
   "cell_type": "code",
   "execution_count": null,
   "id": "dbe9fcad-f64a-4a55-9fe9-7a3cd131c275",
   "metadata": {},
   "outputs": [],
   "source": []
  },
  {
   "cell_type": "markdown",
   "id": "9b91e7c8-cfa0-4683-853f-74d0b7fe2c73",
   "metadata": {},
   "source": [
    "- Preecher com 1 os elementos acima da diagonal principal"
   ]
  },
  {
   "cell_type": "code",
   "execution_count": null,
   "id": "d1fe4063-91e1-4c4c-95e3-88e9f7114a67",
   "metadata": {},
   "outputs": [],
   "source": []
  },
  {
   "cell_type": "markdown",
   "id": "810d66de-eabb-4c81-ac7b-00237038bc85",
   "metadata": {},
   "source": [
    "- Preecher com 1 os elementos abaixo da diagonal principal"
   ]
  },
  {
   "cell_type": "code",
   "execution_count": null,
   "id": "9296a275-e745-4149-ad97-46158f0dd170",
   "metadata": {},
   "outputs": [],
   "source": []
  }
 ],
 "metadata": {
  "kernelspec": {
   "display_name": "Python 3 (ipykernel)",
   "language": "python",
   "name": "python3"
  },
  "language_info": {
   "codemirror_mode": {
    "name": "ipython",
    "version": 3
   },
   "file_extension": ".py",
   "mimetype": "text/x-python",
   "name": "python",
   "nbconvert_exporter": "python",
   "pygments_lexer": "ipython3",
   "version": "3.13.2"
  }
 },
 "nbformat": 4,
 "nbformat_minor": 5
}
