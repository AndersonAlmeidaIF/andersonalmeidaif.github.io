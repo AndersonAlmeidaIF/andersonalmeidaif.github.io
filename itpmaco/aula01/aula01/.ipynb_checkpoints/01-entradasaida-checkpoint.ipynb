{
 "cells": [
  {
   "cell_type": "markdown",
   "id": "fc720cc1-8e02-4de1-83b1-ab3a48faac24",
   "metadata": {},
   "source": [
    "#### Função '**input()**'"
   ]
  },
  {
   "cell_type": "code",
   "execution_count": null,
   "id": "1c1776f3-849f-4295-917e-3f49440cb13b",
   "metadata": {},
   "outputs": [],
   "source": [
    "nome = input(\"Informe seu nome: \")\n",
    "idade = int(input(\"Infome a idade: \"))\n",
    "peso = float(input(\"Informe o peso: \"))\n",
    "altura = float(input(\"Informe a altura: \"))\n",
    "\n",
    "imc = peso / pow(altura, 2)\n",
    "\n",
    "print(\"Nome:\", nome)\n",
    "print(\"Idade:\", idade)\n",
    "print(\"IMC:\", imc)"
   ]
  },
  {
   "cell_type": "code",
   "execution_count": null,
   "id": "3cb3de7a-1b0a-47fe-b4d6-6119829865a5",
   "metadata": {},
   "outputs": [],
   "source": []
  }
 ],
 "metadata": {
  "kernelspec": {
   "display_name": "Python 3 (ipykernel)",
   "language": "python",
   "name": "python3"
  },
  "language_info": {
   "codemirror_mode": {
    "name": "ipython",
    "version": 3
   },
   "file_extension": ".py",
   "mimetype": "text/x-python",
   "name": "python",
   "nbconvert_exporter": "python",
   "pygments_lexer": "ipython3",
   "version": "3.13.2"
  }
 },
 "nbformat": 4,
 "nbformat_minor": 5
}
