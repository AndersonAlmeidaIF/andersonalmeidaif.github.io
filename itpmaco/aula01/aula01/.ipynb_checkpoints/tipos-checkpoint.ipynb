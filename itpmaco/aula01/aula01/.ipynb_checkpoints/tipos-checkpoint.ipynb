{
 "cells": [
  {
   "cell_type": "code",
   "execution_count": null,
   "id": "6bd2cfc6-e415-45ed-abf7-c35eeb80262c",
   "metadata": {},
   "outputs": [],
   "source": [
    "a = 8\n",
    "type(a)"
   ]
  },
  {
   "cell_type": "code",
   "execution_count": null,
   "id": "afd4eed8-d486-4940-a07d-819e731bd7d1",
   "metadata": {},
   "outputs": [],
   "source": [
    "b = 3.14\n",
    "type(b)"
   ]
  },
  {
   "cell_type": "code",
   "execution_count": null,
   "id": "c0027a24-111c-4d3e-aaf5-0cd71421f2b6",
   "metadata": {},
   "outputs": [],
   "source": [
    "c = 2 + 5j\n",
    "type(c)"
   ]
  },
  {
   "cell_type": "code",
   "execution_count": null,
   "id": "3f49cda8-27e5-4008-8619-2224552003ec",
   "metadata": {},
   "outputs": [],
   "source": [
    "d = \"IFSP\"\n",
    "type(d)"
   ]
  },
  {
   "cell_type": "code",
   "execution_count": null,
   "id": "dc7213c0-b8bf-432e-969f-18bf25f84862",
   "metadata": {},
   "outputs": [],
   "source": [
    "e = 3 > 7\n",
    "type(e)"
   ]
  },
  {
   "cell_type": "code",
   "execution_count": null,
   "id": "e3c6cce9-53ea-469b-bef7-a554b383d1be",
   "metadata": {},
   "outputs": [],
   "source": [
    "f = ['anderson', 'fabio', 2025, c]\n",
    "type(f)"
   ]
  },
  {
   "cell_type": "code",
   "execution_count": null,
   "id": "80d50a0a-3dfb-4577-87fa-bf388527ddc0",
   "metadata": {},
   "outputs": [],
   "source": [
    "g = (b, e, 542)\n",
    "type(g)"
   ]
  },
  {
   "cell_type": "code",
   "execution_count": null,
   "id": "ebb957e7-1e0e-446e-96ee-ca68dcf98321",
   "metadata": {},
   "outputs": [],
   "source": [
    "h = {'nome':'maria', 'idade': 20, 'estado': 'SP'}\n",
    "type(h)"
   ]
  }
 ],
 "metadata": {
  "kernelspec": {
   "display_name": "Python 3 (ipykernel)",
   "language": "python",
   "name": "python3"
  },
  "language_info": {
   "codemirror_mode": {
    "name": "ipython",
    "version": 3
   },
   "file_extension": ".py",
   "mimetype": "text/x-python",
   "name": "python",
   "nbconvert_exporter": "python",
   "pygments_lexer": "ipython3",
   "version": "3.13.2"
  }
 },
 "nbformat": 4,
 "nbformat_minor": 5
}
