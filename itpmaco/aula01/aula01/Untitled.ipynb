{
 "cells": [
  {
   "cell_type": "markdown",
   "id": "f8aa3a16-9883-45b0-a45d-d7ec19a04aa4",
   "metadata": {},
   "source": [
    "#### Matrizes"
   ]
  },
  {
   "cell_type": "code",
   "execution_count": 6,
   "id": "932a4b37-ffde-4eae-82f4-47cd32363ab3",
   "metadata": {},
   "outputs": [],
   "source": [
    "A = [ [4,3,0],\n",
    "      [5,6,1], \n",
    "      [2,0,7]]"
   ]
  },
  {
   "cell_type": "code",
   "execution_count": 15,
   "id": "d9bacae7-717e-49ef-8a57-b5b9e059bab2",
   "metadata": {},
   "outputs": [
    {
     "name": "stdout",
     "output_type": "stream",
     "text": [
      "4\n",
      "3\n",
      "0\n",
      "5\n",
      "6\n",
      "1\n",
      "2\n",
      "0\n",
      "7\n"
     ]
    }
   ],
   "source": [
    "for i in range(3):\n",
    "    for j in range(3):\n",
    "        print(A[i][j])"
   ]
  },
  {
   "cell_type": "code",
   "execution_count": null,
   "id": "49f34665-2234-4831-b8ef-c41213f51f40",
   "metadata": {},
   "outputs": [],
   "source": []
  }
 ],
 "metadata": {
  "kernelspec": {
   "display_name": "Python 3 (ipykernel)",
   "language": "python",
   "name": "python3"
  },
  "language_info": {
   "codemirror_mode": {
    "name": "ipython",
    "version": 3
   },
   "file_extension": ".py",
   "mimetype": "text/x-python",
   "name": "python",
   "nbconvert_exporter": "python",
   "pygments_lexer": "ipython3",
   "version": "3.13.2"
  }
 },
 "nbformat": 4,
 "nbformat_minor": 5
}
